{
 "cells": [
  {
   "cell_type": "markdown",
   "id": "6e19aa7d",
   "metadata": {},
   "source": [
    "# Importing Libraries\n"
   ]
  },
  {
   "cell_type": "code",
   "execution_count": 30,
   "id": "5a2dcb46",
   "metadata": {},
   "outputs": [],
   "source": [
    "import pandas as pd\n",
    "from sklearn.model_selection import train_test_split\n",
    "from category_encoders import TargetEncoder #conda install category_encoders\n",
    "from xgboost import XGBClassifier #conda install xgboost\n",
    "from skopt.space import Real, Categorical, Integer\n",
    "from xgboost import plot_importance\n",
    "import matplotlib.pyplot as plt\n",
    "from sklearn.ensemble import RandomForestClassifier\n",
    "from sklearn.model_selection import RandomizedSearchCV\n",
    "import scipy.stats as stats\n",
    "import warnings\n",
    "warnings.filterwarnings('ignore')\n",
    "from sklearn.linear_model import LogisticRegression\n",
    "from sklearn.metrics import (\n",
    "    accuracy_score,\n",
    "    classification_report,\n",
    "    f1_score,\n",
    "    precision_score,\n",
    "    recall_score,\n",
    "    roc_auc_score\n",
    ")\n",
    "\n"
   ]
  },
  {
   "cell_type": "markdown",
   "id": "3a2abe4d",
   "metadata": {},
   "source": [
    "# 1) Preparing data\n"
   ]
  },
  {
   "cell_type": "code",
   "execution_count": 31,
   "id": "1f42cf3c",
   "metadata": {},
   "outputs": [],
   "source": [
    "df = pd.read_csv('cleaned.csv')\n",
    "X = df.drop(columns='Bankrupt?')\n",
    "y = df['Bankrupt?']\n",
    "X_train, X_test, y_train, y_test = train_test_split(X, y, test_size=0.2, stratify=y, random_state=0)"
   ]
  },
  {
   "cell_type": "markdown",
   "id": "45bca927",
   "metadata": {},
   "source": [
    "# 2a) Hyperparameter Tuning - XGBClassfier"
   ]
  },
  {
   "cell_type": "code",
   "execution_count": 32,
   "id": "36eccb65",
   "metadata": {},
   "outputs": [],
   "source": [
    "xgbc_model = XGBClassifier(random_state=42)\n",
    "\n",
    "params = {\n",
    "    'learning_rate': stats.uniform(0.01, 0.3),  # Learning rate\n",
    "    'max_depth': stats.randint(1, 10),  # Maximum depth of the tree\n",
    "    'min_child_weight': stats.randint(1, 10),  # Minimum sum of weights of all observations required in a child node\n",
    "    'subsample': stats.uniform(0.5, 0.5),  # Subsample ratio of the training instances\n",
    "    'colsample_bytree': stats.uniform(0.5, 0.5),  # Subsample ratio of columns when constructing each tree\n",
    "    'gamma': stats.uniform(0, 5),  # Minimum loss reduction required to make a further partition on a leaf node of the tree\n",
    "    'reg_alpha': stats.uniform(0, 1),  # L1 regularization term on weights\n",
    "    'reg_lambda': stats.uniform(0, 1),  # L2 regularization term on weights\n",
    "    'n_estimators': stats.randint(100, 1000)  # Number of trees in the forest\n",
    "}\n",
    "\n",
    "xgbc_random = RandomizedSearchCV(\n",
    "    estimator=xgbc_model, \n",
    "    param_distributions=params, \n",
    "    n_iter=10, \n",
    "    cv=5, \n",
    "    random_state=42, \n",
    "    n_jobs=-1\n",
    ")"
   ]
  },
  {
   "cell_type": "markdown",
   "id": "ad691ee8",
   "metadata": {},
   "source": [
    "# 2b) Hyperparameter Tuning - Random Forest Classifier"
   ]
  },
  {
   "cell_type": "code",
   "execution_count": 33,
   "id": "d7cac72b",
   "metadata": {},
   "outputs": [],
   "source": [
    "rf_model = RandomForestClassifier(random_state=42);\n",
    "params = {\n",
    "    'n_estimators': [50, 100, 150, 200], \n",
    "    'max_depth': [3, 5, 7, 10, None], \n",
    "    'min_samples_split': [2, 5, 10],\n",
    "    'min_samples_leaf': [1, 2, 4],\n",
    "    'bootstrap': [True, False],\n",
    "    'criterion': ['gini', 'entropy']\n",
    "}\n",
    "\n",
    "# define the Randomized Search Cross Validation\n",
    "rf_random = RandomizedSearchCV(estimator=rf_model, param_distributions=params, \n",
    "                               n_iter=10, cv=5, random_state=42, n_jobs=-1)"
   ]
  },
  {
   "cell_type": "markdown",
   "id": "6ae6e452",
   "metadata": {},
   "source": [
    "# 2c) Hyperparameter Tuning - Logistic Regression"
   ]
  },
  {
   "cell_type": "code",
   "execution_count": 34,
   "id": "6de48e84",
   "metadata": {},
   "outputs": [],
   "source": [
    "logreg_model = LogisticRegression(random_state=42,max_iter=10000)\n",
    "params = {\n",
    "    'C': stats.uniform(loc=0, scale=4),\n",
    "    'penalty': ['l1', 'l2'],\n",
    "    'solver': ['liblinear', 'newton-cg', 'lbfgs', 'sag', 'saga']\n",
    "}\n",
    "\n",
    "logreg_random = RandomizedSearchCV(logreg_model, params, n_iter=10, cv=5, random_state=42, n_jobs=-1)\n"
   ]
  },
  {
   "cell_type": "markdown",
   "id": "10ed77cb",
   "metadata": {},
   "source": [
    "# 3) Evaluation of Models"
   ]
  },
  {
   "cell_type": "code",
   "execution_count": 43,
   "id": "9f66b647",
   "metadata": {},
   "outputs": [
    {
     "name": "stdout",
     "output_type": "stream",
     "text": [
      "Model: XGBClassifier\n",
      "              precision    recall  f1-score   support\n",
      "\n",
      "           0       0.98      0.99      0.98      1320\n",
      "           1       0.50      0.25      0.33        44\n",
      "\n",
      "    accuracy                           0.97      1364\n",
      "   macro avg       0.74      0.62      0.66      1364\n",
      "weighted avg       0.96      0.97      0.96      1364\n",
      "\n",
      "------------------------------ \n",
      "\n",
      "Model: RandomForestClassfier\n",
      "              precision    recall  f1-score   support\n",
      "\n",
      "           0       0.97      1.00      0.98      1320\n",
      "           1       0.60      0.20      0.31        44\n",
      "\n",
      "    accuracy                           0.97      1364\n",
      "   macro avg       0.79      0.60      0.64      1364\n",
      "weighted avg       0.96      0.97      0.96      1364\n",
      "\n",
      "------------------------------ \n",
      "\n",
      "Model: LogisticRegression\n",
      "              precision    recall  f1-score   support\n",
      "\n",
      "           0       0.97      1.00      0.98      1320\n",
      "           1       0.50      0.07      0.12        44\n",
      "\n",
      "    accuracy                           0.97      1364\n",
      "   macro avg       0.73      0.53      0.55      1364\n",
      "weighted avg       0.95      0.97      0.96      1364\n",
      "\n",
      "------------------------------ \n",
      "\n"
     ]
    }
   ],
   "source": [
    "models = [xgbc_random, rf_random,logreg_random]\n",
    "models_name = [\"XGBClassifier\", \"RandomForestClassfier\",\"LogisticRegression\"]\n",
    "for i in range(len(models)):\n",
    "    model = models[i]\n",
    "    model_name = models_name[i]\n",
    "    model.fit(X_train, y_train)\n",
    "    y_pred = model.predict(X_test)\n",
    "    print(\"Model: \" + model_name)\n",
    "    print(classification_report(y_test, y_pred))\n",
    "    print(\"-\" * 30, \"\\n\")"
   ]
  },
  {
   "cell_type": "code",
   "execution_count": null,
   "id": "69361e60",
   "metadata": {},
   "outputs": [],
   "source": []
  }
 ],
 "metadata": {
  "kernelspec": {
   "display_name": "Python 3 (ipykernel)",
   "language": "python",
   "name": "python3"
  },
  "language_info": {
   "codemirror_mode": {
    "name": "ipython",
    "version": 3
   },
   "file_extension": ".py",
   "mimetype": "text/x-python",
   "name": "python",
   "nbconvert_exporter": "python",
   "pygments_lexer": "ipython3",
   "version": "3.9.13"
  }
 },
 "nbformat": 4,
 "nbformat_minor": 5
}
