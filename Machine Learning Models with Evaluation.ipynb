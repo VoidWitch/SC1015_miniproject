{
 "cells": [
  {
   "cell_type": "markdown",
   "id": "6e19aa7d",
   "metadata": {},
   "source": [
    "# Importing Libraries\n"
   ]
  },
  {
   "cell_type": "code",
   "execution_count": 48,
   "id": "5a2dcb46",
   "metadata": {},
   "outputs": [],
   "source": [
    "import pandas as pd\n",
    "from sklearn.model_selection import train_test_split\n",
    "from category_encoders import TargetEncoder #conda install category_encoders\n",
    "from xgboost import XGBClassifier #conda install xgboost\n",
    "from skopt.space import Real, Categorical, Integer\n",
    "from xgboost import plot_importance\n",
    "import matplotlib.pyplot as plt\n",
    "from sklearn.ensemble import RandomForestClassifier\n",
    "from sklearn.model_selection import RandomizedSearchCV\n",
    "import scipy.stats as stats\n",
    "import warnings\n",
    "warnings.filterwarnings('ignore')\n",
    "from sklearn.linear_model import LogisticRegression\n",
    "from sklearn.metrics import (\n",
    "    accuracy_score,\n",
    "    classification_report,\n",
    "    f1_score,\n",
    "    precision_score,\n",
    "    recall_score,\n",
    "    roc_auc_score\n",
    ")\n",
    "\n"
   ]
  },
  {
   "cell_type": "markdown",
   "id": "3a2abe4d",
   "metadata": {},
   "source": [
    "# 1) Preparing data\n"
   ]
  },
  {
   "cell_type": "code",
   "execution_count": 49,
   "id": "1f42cf3c",
   "metadata": {},
   "outputs": [],
   "source": [
    "df = pd.read_csv('cleaned.csv')\n",
    "X = df.drop(columns='Bankrupt?')\n",
    "y = df['Bankrupt?']\n",
    "X_train, X_test, y_train, y_test = train_test_split(X, y, test_size=0.2, stratify=y, random_state=0)"
   ]
  },
  {
   "cell_type": "markdown",
   "id": "45bca927",
   "metadata": {},
   "source": [
    "# 2a) Hyperparameter Tuning - XGBClassfier"
   ]
  },
  {
   "cell_type": "code",
   "execution_count": 50,
   "id": "36eccb65",
   "metadata": {},
   "outputs": [],
   "source": [
    "xgbc_model = XGBClassifier(random_state=42)\n",
    "\n",
    "params = {\n",
    "    'learning_rate': stats.uniform(0.01, 0.3),  # Learning rate\n",
    "    'max_depth': stats.randint(1, 10),  # Maximum depth of the tree\n",
    "    'min_child_weight': stats.randint(1, 10),  # Minimum sum of weights of all observations required in a child node\n",
    "    'subsample': stats.uniform(0.5, 0.5),  # Subsample ratio of the training instances\n",
    "    'colsample_bytree': stats.uniform(0.5, 0.5),  # Subsample ratio of columns when constructing each tree\n",
    "    'gamma': stats.uniform(0, 5),  # Minimum loss reduction required to make a further partition on a leaf node of the tree\n",
    "    'reg_alpha': stats.uniform(0, 1),  # L1 regularization term on weights\n",
    "    'reg_lambda': stats.uniform(0, 1),  # L2 regularization term on weights\n",
    "    'n_estimators': stats.randint(100, 1000)  # Number of trees in the forest\n",
    "}\n",
    "\n",
    "xgbc_random = RandomizedSearchCV(\n",
    "    estimator=xgbc_model, \n",
    "    param_distributions=params, \n",
    "    n_iter=10, \n",
    "    cv=5, \n",
    "    random_state=42, \n",
    "    n_jobs=-1\n",
    ")"
   ]
  },
  {
   "cell_type": "markdown",
   "id": "ad691ee8",
   "metadata": {},
   "source": [
    "# 2b) Hyperparameter Tuning - Random Forest Classifier"
   ]
  },
  {
   "cell_type": "code",
   "execution_count": 51,
   "id": "d7cac72b",
   "metadata": {},
   "outputs": [],
   "source": [
    "rf_model = RandomForestClassifier(random_state=42);\n",
    "params = {\n",
    "    'n_estimators': [50, 100, 150, 200], \n",
    "    'max_depth': [3, 5, 7, 10, None], \n",
    "    'min_samples_split': [2, 5, 10],\n",
    "    'min_samples_leaf': [1, 2, 4],\n",
    "    'bootstrap': [True, False],\n",
    "    'criterion': ['gini', 'entropy']\n",
    "}\n",
    "\n",
    "# define the Randomized Search Cross Validation\n",
    "rf_random = RandomizedSearchCV(estimator=rf_model, param_distributions=params, \n",
    "                               n_iter=10, cv=5, random_state=42, n_jobs=-1)"
   ]
  },
  {
   "cell_type": "markdown",
   "id": "6ae6e452",
   "metadata": {},
   "source": [
    "# 2c) Hyperparameter Tuning - Logistic Regression"
   ]
  },
  {
   "cell_type": "code",
   "execution_count": 52,
   "id": "6de48e84",
   "metadata": {},
   "outputs": [],
   "source": [
    "logreg_model = LogisticRegression(random_state=42,max_iter=10000)\n",
    "params = {\n",
    "    'C': stats.uniform(loc=0, scale=4),\n",
    "    'penalty': ['l1', 'l2'],\n",
    "    'solver': ['liblinear', 'newton-cg', 'lbfgs', 'sag', 'saga']\n",
    "}\n",
    "\n",
    "logreg_random = RandomizedSearchCV(logreg_model, params, n_iter=10, cv=5, random_state=42, n_jobs=-1)\n"
   ]
  },
  {
   "cell_type": "markdown",
   "id": "880aff37",
   "metadata": {},
   "source": [
    "# 3a) Evaluation of Models - Untuned"
   ]
  },
  {
   "cell_type": "code",
   "execution_count": 55,
   "id": "c42b8949",
   "metadata": {},
   "outputs": [
    {
     "name": "stdout",
     "output_type": "stream",
     "text": [
      "Model: XGBClassifier\n",
      "              precision    recall  f1-score   support\n",
      "\n",
      "           0       0.98      0.99      0.98      1320\n",
      "           1       0.52      0.30      0.38        44\n",
      "\n",
      "    accuracy                           0.97      1364\n",
      "   macro avg       0.75      0.64      0.68      1364\n",
      "weighted avg       0.96      0.97      0.96      1364\n",
      "\n",
      "------------------------------ \n",
      "\n",
      "Model: RandomForestClassfier\n",
      "              precision    recall  f1-score   support\n",
      "\n",
      "           0       0.97      0.99      0.98      1320\n",
      "           1       0.50      0.20      0.29        44\n",
      "\n",
      "    accuracy                           0.97      1364\n",
      "   macro avg       0.74      0.60      0.64      1364\n",
      "weighted avg       0.96      0.97      0.96      1364\n",
      "\n",
      "------------------------------ \n",
      "\n",
      "Model: LogisticRegression\n",
      "              precision    recall  f1-score   support\n",
      "\n",
      "           0       0.97      1.00      0.98      1320\n",
      "           1       0.57      0.09      0.16        44\n",
      "\n",
      "    accuracy                           0.97      1364\n",
      "   macro avg       0.77      0.54      0.57      1364\n",
      "weighted avg       0.96      0.97      0.96      1364\n",
      "\n",
      "------------------------------ \n",
      "\n"
     ]
    }
   ],
   "source": [
    "models_comparison = {}\n",
    "untuned_models = [XGBClassifier(random_state=42), RandomForestClassifier(random_state=42),LogisticRegression(random_state=42)]\n",
    "untuned_models_name = [\"XGBClassifier\", \"RandomForestClassfier\",\"LogisticRegression\"]\n",
    "for i in range(len(models)):\n",
    "    model = untuned_models[i]\n",
    "    model_name = untuned_models_name[i]\n",
    "    model.fit(X_train, y_train)\n",
    "    y_pred = model.predict(X_test)\n",
    "    models_comparison[f\"{models_name[i]}\"] = [\n",
    "        accuracy_score(y_pred, y_test),\n",
    "        f1_score(y_pred, y_test),\n",
    "        precision_score(y_pred, y_test),\n",
    "        recall_score(y_pred, y_test)\n",
    "    ]\n",
    "    print(\"Model: \" + model_name)\n",
    "    print(classification_report(y_test, y_pred))\n",
    "    print(\"-\" * 30, \"\\n\")"
   ]
  },
  {
   "cell_type": "code",
   "execution_count": 56,
   "id": "ab1ccc08",
   "metadata": {},
   "outputs": [
    {
     "data": {
      "text/html": [
       "<style type=\"text/css\">\n",
       "#T_484cf_row0_col0, #T_484cf_row0_col1, #T_484cf_row0_col2 {\n",
       "  background-color: #08306b;\n",
       "  color: #f1f1f1;\n",
       "}\n",
       "#T_484cf_row1_col0 {\n",
       "  background-color: #dfecf7;\n",
       "  color: #000000;\n",
       "}\n",
       "#T_484cf_row1_col1 {\n",
       "  background-color: #e1edf8;\n",
       "  color: #000000;\n",
       "}\n",
       "#T_484cf_row1_col2 {\n",
       "  background-color: #e8f1fa;\n",
       "  color: #000000;\n",
       "}\n",
       "#T_484cf_row2_col0, #T_484cf_row2_col1, #T_484cf_row2_col2 {\n",
       "  background-color: #f7fbff;\n",
       "  color: #000000;\n",
       "}\n",
       "#T_484cf_row3_col0 {\n",
       "  background-color: #abd0e6;\n",
       "  color: #000000;\n",
       "}\n",
       "#T_484cf_row3_col1 {\n",
       "  background-color: #99c7e0;\n",
       "  color: #000000;\n",
       "}\n",
       "#T_484cf_row3_col2 {\n",
       "  background-color: #5ba3d0;\n",
       "  color: #f1f1f1;\n",
       "}\n",
       "</style>\n",
       "<table id=\"T_484cf\">\n",
       "  <thead>\n",
       "    <tr>\n",
       "      <th class=\"blank level0\" >&nbsp;</th>\n",
       "      <th id=\"T_484cf_level0_col0\" class=\"col_heading level0 col0\" >XGBClassifier</th>\n",
       "      <th id=\"T_484cf_level0_col1\" class=\"col_heading level0 col1\" >RandomForestClassfier</th>\n",
       "      <th id=\"T_484cf_level0_col2\" class=\"col_heading level0 col2\" >LogisticRegression</th>\n",
       "    </tr>\n",
       "  </thead>\n",
       "  <tbody>\n",
       "    <tr>\n",
       "      <th id=\"T_484cf_level0_row0\" class=\"row_heading level0 row0\" >Model Accuracy</th>\n",
       "      <td id=\"T_484cf_row0_col0\" class=\"data row0 col0\" >96.85%</td>\n",
       "      <td id=\"T_484cf_row0_col1\" class=\"data row0 col1\" >96.77%</td>\n",
       "      <td id=\"T_484cf_row0_col2\" class=\"data row0 col2\" >96.85%</td>\n",
       "    </tr>\n",
       "    <tr>\n",
       "      <th id=\"T_484cf_level0_row1\" class=\"row_heading level0 row1\" >Model F1-Score</th>\n",
       "      <td id=\"T_484cf_row1_col0\" class=\"data row1 col0\" >37.68%</td>\n",
       "      <td id=\"T_484cf_row1_col1\" class=\"data row1 col1\" >29.03%</td>\n",
       "      <td id=\"T_484cf_row1_col2\" class=\"data row1 col2\" >15.69%</td>\n",
       "    </tr>\n",
       "    <tr>\n",
       "      <th id=\"T_484cf_level0_row2\" class=\"row_heading level0 row2\" >Precision</th>\n",
       "      <td id=\"T_484cf_row2_col0\" class=\"data row2 col0\" >29.55%</td>\n",
       "      <td id=\"T_484cf_row2_col1\" class=\"data row2 col1\" >20.45%</td>\n",
       "      <td id=\"T_484cf_row2_col2\" class=\"data row2 col2\" >9.09%</td>\n",
       "    </tr>\n",
       "    <tr>\n",
       "      <th id=\"T_484cf_level0_row3\" class=\"row_heading level0 row3\" >Recall</th>\n",
       "      <td id=\"T_484cf_row3_col0\" class=\"data row3 col0\" >52.00%</td>\n",
       "      <td id=\"T_484cf_row3_col1\" class=\"data row3 col1\" >50.00%</td>\n",
       "      <td id=\"T_484cf_row3_col2\" class=\"data row3 col2\" >57.14%</td>\n",
       "    </tr>\n",
       "  </tbody>\n",
       "</table>\n"
      ],
      "text/plain": [
       "<pandas.io.formats.style.Styler at 0x232da7afb80>"
      ]
     },
     "execution_count": 56,
     "metadata": {},
     "output_type": "execute_result"
    }
   ],
   "source": [
    "models_com_df = pd.DataFrame(models_comparison)\n",
    "\n",
    "models_com_df.columns =  [\"XGBClassifier\", \"RandomForestClassfier\",\"LogisticRegression\"]\n",
    "models_com_df.index = [\n",
    "    \"Model Accuracy\",\n",
    "    \"Model F1-Score\",\n",
    "    \"Precision\",\n",
    "    \"Recall\"\n",
    "]\n",
    "\n",
    "models_com_df.style.format(\"{:.2%}\").background_gradient(cmap=\"Blues\")"
   ]
  },
  {
   "cell_type": "markdown",
   "id": "10ed77cb",
   "metadata": {},
   "source": [
    "# 3b) Evaluation of Models - Tuned"
   ]
  },
  {
   "cell_type": "code",
   "execution_count": 57,
   "id": "9f66b647",
   "metadata": {},
   "outputs": [
    {
     "name": "stdout",
     "output_type": "stream",
     "text": [
      "Model: Tuned XGBClassifier\n",
      "              precision    recall  f1-score   support\n",
      "\n",
      "           0       0.98      0.99      0.98      1320\n",
      "           1       0.50      0.25      0.33        44\n",
      "\n",
      "    accuracy                           0.97      1364\n",
      "   macro avg       0.74      0.62      0.66      1364\n",
      "weighted avg       0.96      0.97      0.96      1364\n",
      "\n",
      "------------------------------ \n",
      "\n",
      "Model: Tuned RandomForestClassfier\n",
      "              precision    recall  f1-score   support\n",
      "\n",
      "           0       0.97      1.00      0.98      1320\n",
      "           1       0.60      0.20      0.31        44\n",
      "\n",
      "    accuracy                           0.97      1364\n",
      "   macro avg       0.79      0.60      0.64      1364\n",
      "weighted avg       0.96      0.97      0.96      1364\n",
      "\n",
      "------------------------------ \n",
      "\n",
      "Model: Tuned LogisticRegression\n",
      "              precision    recall  f1-score   support\n",
      "\n",
      "           0       0.97      1.00      0.98      1320\n",
      "           1       0.50      0.07      0.12        44\n",
      "\n",
      "    accuracy                           0.97      1364\n",
      "   macro avg       0.73      0.53      0.55      1364\n",
      "weighted avg       0.95      0.97      0.96      1364\n",
      "\n",
      "------------------------------ \n",
      "\n"
     ]
    }
   ],
   "source": [
    "models_comparison = {}\n",
    "tuned_models = [xgbc_random, rf_random,logreg_random]\n",
    "tuned_models_name = [\"Tuned XGBClassifier\", \"Tuned RandomForestClassfier\",\"Tuned LogisticRegression\"]\n",
    "for i in range(len(tuned_models)):\n",
    "    model = tuned_models[i]\n",
    "    model_name = tuned_models_name[i]\n",
    "    model.fit(X_train, y_train)\n",
    "    y_pred = model.predict(X_test)\n",
    "    models_comparison[f\"{models_name[i]}\"] = [\n",
    "        accuracy_score(y_pred, y_test),\n",
    "        f1_score(y_pred, y_test),\n",
    "        precision_score(y_pred, y_test),\n",
    "        recall_score(y_pred, y_test)\n",
    "    ]\n",
    "    print(\"Model: \" + model_name)\n",
    "    print(classification_report(y_test, y_pred))\n",
    "    print(\"-\" * 30, \"\\n\")"
   ]
  },
  {
   "cell_type": "code",
   "execution_count": 58,
   "id": "69361e60",
   "metadata": {},
   "outputs": [
    {
     "data": {
      "text/html": [
       "<style type=\"text/css\">\n",
       "#T_f14d2_row0_col0, #T_f14d2_row0_col1, #T_f14d2_row0_col2 {\n",
       "  background-color: #08306b;\n",
       "  color: #f1f1f1;\n",
       "}\n",
       "#T_f14d2_row1_col0 {\n",
       "  background-color: #e0ecf8;\n",
       "  color: #000000;\n",
       "}\n",
       "#T_f14d2_row1_col1 {\n",
       "  background-color: #ddeaf7;\n",
       "  color: #000000;\n",
       "}\n",
       "#T_f14d2_row1_col2 {\n",
       "  background-color: #ecf4fb;\n",
       "  color: #000000;\n",
       "}\n",
       "#T_f14d2_row2_col0, #T_f14d2_row2_col1, #T_f14d2_row2_col2 {\n",
       "  background-color: #f7fbff;\n",
       "  color: #000000;\n",
       "}\n",
       "#T_f14d2_row3_col0 {\n",
       "  background-color: #a6cee4;\n",
       "  color: #000000;\n",
       "}\n",
       "#T_f14d2_row3_col1 {\n",
       "  background-color: #65aad4;\n",
       "  color: #f1f1f1;\n",
       "}\n",
       "#T_f14d2_row3_col2 {\n",
       "  background-color: #74b3d8;\n",
       "  color: #000000;\n",
       "}\n",
       "</style>\n",
       "<table id=\"T_f14d2\">\n",
       "  <thead>\n",
       "    <tr>\n",
       "      <th class=\"blank level0\" >&nbsp;</th>\n",
       "      <th id=\"T_f14d2_level0_col0\" class=\"col_heading level0 col0\" >Tuned XGBClassifier</th>\n",
       "      <th id=\"T_f14d2_level0_col1\" class=\"col_heading level0 col1\" >Tuned RandomForestClassfier</th>\n",
       "      <th id=\"T_f14d2_level0_col2\" class=\"col_heading level0 col2\" >Tuned LogisticRegression</th>\n",
       "    </tr>\n",
       "  </thead>\n",
       "  <tbody>\n",
       "    <tr>\n",
       "      <th id=\"T_f14d2_level0_row0\" class=\"row_heading level0 row0\" >Model Accuracy</th>\n",
       "      <td id=\"T_f14d2_row0_col0\" class=\"data row0 col0\" >96.77%</td>\n",
       "      <td id=\"T_f14d2_row0_col1\" class=\"data row0 col1\" >96.99%</td>\n",
       "      <td id=\"T_f14d2_row0_col2\" class=\"data row0 col2\" >96.77%</td>\n",
       "    </tr>\n",
       "    <tr>\n",
       "      <th id=\"T_f14d2_level0_row1\" class=\"row_heading level0 row1\" >Model F1-Score</th>\n",
       "      <td id=\"T_f14d2_row1_col0\" class=\"data row1 col0\" >33.33%</td>\n",
       "      <td id=\"T_f14d2_row1_col1\" class=\"data row1 col1\" >30.51%</td>\n",
       "      <td id=\"T_f14d2_row1_col2\" class=\"data row1 col2\" >12.00%</td>\n",
       "    </tr>\n",
       "    <tr>\n",
       "      <th id=\"T_f14d2_level0_row2\" class=\"row_heading level0 row2\" >Precision</th>\n",
       "      <td id=\"T_f14d2_row2_col0\" class=\"data row2 col0\" >25.00%</td>\n",
       "      <td id=\"T_f14d2_row2_col1\" class=\"data row2 col1\" >20.45%</td>\n",
       "      <td id=\"T_f14d2_row2_col2\" class=\"data row2 col2\" >6.82%</td>\n",
       "    </tr>\n",
       "    <tr>\n",
       "      <th id=\"T_f14d2_level0_row3\" class=\"row_heading level0 row3\" >Recall</th>\n",
       "      <td id=\"T_f14d2_row3_col0\" class=\"data row3 col0\" >50.00%</td>\n",
       "      <td id=\"T_f14d2_row3_col1\" class=\"data row3 col1\" >60.00%</td>\n",
       "      <td id=\"T_f14d2_row3_col2\" class=\"data row3 col2\" >50.00%</td>\n",
       "    </tr>\n",
       "  </tbody>\n",
       "</table>\n"
      ],
      "text/plain": [
       "<pandas.io.formats.style.Styler at 0x232dba3f700>"
      ]
     },
     "execution_count": 58,
     "metadata": {},
     "output_type": "execute_result"
    }
   ],
   "source": [
    "models_com_df = pd.DataFrame(models_comparison)\n",
    "\n",
    "models_com_df.columns =  [\"Tuned XGBClassifier\", \"Tuned RandomForestClassfier\",\"Tuned LogisticRegression\"]\n",
    "models_com_df.index = [\n",
    "    \"Model Accuracy\",\n",
    "    \"Model F1-Score\",\n",
    "    \"Precision\",\n",
    "    \"Recall\"\n",
    "]\n",
    "\n",
    "models_com_df.style.format(\"{:.2%}\").background_gradient(cmap=\"Blues\")"
   ]
  }
 ],
 "metadata": {
  "kernelspec": {
   "display_name": "Python 3 (ipykernel)",
   "language": "python",
   "name": "python3"
  },
  "language_info": {
   "codemirror_mode": {
    "name": "ipython",
    "version": 3
   },
   "file_extension": ".py",
   "mimetype": "text/x-python",
   "name": "python",
   "nbconvert_exporter": "python",
   "pygments_lexer": "ipython3",
   "version": "3.9.13"
  }
 },
 "nbformat": 4,
 "nbformat_minor": 5
}
